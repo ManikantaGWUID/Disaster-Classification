{
 "cells": [
  {
   "cell_type": "code",
   "execution_count": 1,
   "id": "28c64085-555e-4695-a690-e7d95947fa43",
   "metadata": {},
   "outputs": [],
   "source": [
    "import os\n",
    "import shutil\n",
    "import random\n",
    "from sklearn.model_selection import train_test_split\n",
    "def train_test_split_folder(dataset_folder, train_folder, test_folder, split_ratio=0.8):\n",
    "    # Create train and test folders if they don't exist\n",
    "    os.makedirs(train_folder, exist_ok=True)\n",
    "    os.makedirs(test_folder, exist_ok=True)\n",
    "\n",
    "    # Iterate through each class folder\n",
    "    for class_folder in os.listdir(dataset_folder):\n",
    "        class_path = os.path.join(dataset_folder, class_folder)\n",
    "        print(class_folder)\n",
    "        if os.path.isdir(class_path):\n",
    "            # List all images in the class folder\n",
    "            images = os.listdir(class_path)\n",
    "            # split the images into train and test\n",
    "            train_images , test_images = train_test_split(images, train_size=split_ratio, random_state=6575)\n",
    "       \n",
    "\n",
    "            # Move images to the train and test folders\n",
    "            for image in train_images:\n",
    "                src_path = os.path.join(class_path, image)\n",
    "                dst_path = os.path.join(train_folder, class_folder, image)\n",
    "                os.makedirs(os.path.dirname(dst_path), exist_ok=True)\n",
    "                shutil.copy(src_path, dst_path)\n",
    "\n",
    "            for image in test_images:\n",
    "                src_path = os.path.join(class_path, image)\n",
    "                dst_path = os.path.join(test_folder, class_folder, image)\n",
    "                os.makedirs(os.path.dirname(dst_path), exist_ok=True)\n",
    "                shutil.copy(src_path, dst_path)\n",
    "\n",
    "\n"
   ]
  },
  {
   "cell_type": "code",
   "execution_count": 2,
   "id": "ec8d5721-db95-4756-8a23-b736ba3ec93a",
   "metadata": {
    "scrolled": true
   },
   "outputs": [
    {
     "name": "stdout",
     "output_type": "stream",
     "text": [
      "Cyclone\n",
      "Earthquake\n",
      "Flood\n",
      "NoRisk\n",
      "Wildfire\n"
     ]
    }
   ],
   "source": [
    "# Split the data into test and train folders\n",
    "dataset_folder = r\"C:\\Users\\manik\\OneDrive\\Desktop\\Semester1\\EMSE_6575_AppliedML\\Project\\Cyclone_Wildfire_Flood_Earthquake_Database\"\n",
    "train_folder = r\"C:\\Users\\manik\\OneDrive\\Desktop\\Semester1\\EMSE_6575_AppliedML\\Project\\Train\"\n",
    "test_folder = r\"C:\\Users\\manik\\OneDrive\\Desktop\\Semester1\\EMSE_6575_AppliedML\\Project\\Test\"\n",
    "train_test_split_folder(dataset_folder, train_folder, test_folder)"
   ]
  },
  {
   "cell_type": "code",
   "execution_count": null,
   "id": "1d6e2dd2-cc5c-4b6f-9c61-bf2cda5f8aad",
   "metadata": {},
   "outputs": [],
   "source": []
  },
  {
   "cell_type": "code",
   "execution_count": null,
   "id": "90c56f7f-e386-4eb0-a36a-1b2a8b38924c",
   "metadata": {},
   "outputs": [],
   "source": []
  }
 ],
 "metadata": {
  "kernelspec": {
   "display_name": "Python 3 (ipykernel)",
   "language": "python",
   "name": "python3"
  },
  "language_info": {
   "codemirror_mode": {
    "name": "ipython",
    "version": 3
   },
   "file_extension": ".py",
   "mimetype": "text/x-python",
   "name": "python",
   "nbconvert_exporter": "python",
   "pygments_lexer": "ipython3",
   "version": "3.9.5"
  }
 },
 "nbformat": 4,
 "nbformat_minor": 5
}
